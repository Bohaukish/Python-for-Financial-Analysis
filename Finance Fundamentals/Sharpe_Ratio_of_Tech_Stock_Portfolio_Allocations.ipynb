{
  "nbformat": 4,
  "nbformat_minor": 0,
  "metadata": {
    "kernelspec": {
      "display_name": "Python 3",
      "language": "python",
      "name": "python3"
    },
    "language_info": {
      "codemirror_mode": {
        "name": "ipython",
        "version": 3
      },
      "file_extension": ".py",
      "mimetype": "text/x-python",
      "name": "python",
      "nbconvert_exporter": "python",
      "pygments_lexer": "ipython3",
      "version": "3.6.1"
    },
    "colab": {
      "name": "Sharpe Ratio of Tech Stock Portfolio Allocations.ipynb",
      "provenance": [],
      "collapsed_sections": []
    }
  },
  "cells": [
    {
      "cell_type": "markdown",
      "metadata": {
        "id": "Afv_udRp_P3q"
      },
      "source": [
        "\n",
        "\n",
        "Portfolio: 证券组合, a set of allocations in a variety of securities. The percentages should add up to 100%.\n",
        "\n",
        "### **Key Statistics for a Profolio:**\n",
        "\n",
        "- daily returns\n",
        "\n",
        "- overall cumulative returns: the amount returned after an entire time period(NOT DAILY).\n",
        "\n",
        "- avg. daily return\n",
        "\n",
        "- std. daily return: volatility不稳定性 of that actual return.\n",
        "\n",
        "### **Sharpe Ratio夏普比率:**\n",
        "\n",
        "https://www.investopedia.com/terms/s/sharperatio.asp\n",
        "\n",
        "风险调整后的收益率就是一个可以同时对收益与风险加以考虑的综合指标，长期能够排除风险因素对绩效评估的不利影响。夏普比率就是一个可以同时对收益与风险加以综合考虑的三大经典指标之一。\n",
        "\n",
        "The Sharpe Ratio is a measure for calculating risk-adjusted return, and this ratio has become the industry standard for such calculations.\n",
        "\n",
        "example:\n",
        "\n",
        "甲投资：超额（超出国债）回报期望10%，标准差20%，夏普比率为0.5\n",
        "\n",
        "乙投资：超额回报期望5%，标准差5%，夏普比率为1\n",
        "\n",
        "乍一看，甲投资回报期望高，似乎是比较好的机会。其实乙投资更胜一筹，因为它的夏普比率高，意味着投资者用1个单位的“风险”能换取更多的回报期望。\n",
        "\n",
        "夏普比率多大才算好呢？\n",
        "\n",
        "greater than one is considered acceptable to good by investors. This usually depends on what kind of risk tolerance is. But commonly speaking, a ratio higher than 2 is usually rated as very good. And their ratio of 3 or higher is considered to be excellent.\n",
        "\n",
        "#### **Formula**\n",
        "\n",
        "Sharpe ratio = (Mean portfolio return − Risk-free return)/Standard deviation of portfolio return.\n",
        "\n",
        "- Mean portfolio return: expected profolio return\n",
        "\n",
        "- Risk-free: the return you would receive if you put your money in an investment like bank savings account. 但这个利息一般接近0，因此这个值一般处理是approximate as 0.（也有1%多的那就可以这个值设为1）\n",
        "\n",
        "- Standard deviation of portfolio return: volatility.\n",
        "\n",
        "因此，可以将此近似为：\n",
        "\n",
        "SR = Mean Return / std. deviation\n",
        "\n",
        "#### **Change the sampling rates**\n",
        "\n",
        "Keep in mind the Sharpe ratio was actually originally thought of as a yearly metric. The annulized Sharpe Ratio can be obtained by multiplying against a K-factor based off your Sampling rate:\n",
        "\n",
        "Annualized Sharpe Ratio = K-value * SR\n",
        "\n",
        "K-values for various sampling rates:\n",
        "\n",
        "* Daily = sqrt(252)  # 一年大概252个工作日\n",
        "* Weekly = sqrt(52)\n",
        "* Monthly = sqrt(12)\n",
        "\n",
        "\n"
      ]
    },
    {
      "cell_type": "code",
      "metadata": {
        "colab": {
          "base_uri": "https://localhost:8080/"
        },
        "id": "qGo08S2fKocc",
        "outputId": "a16248b8-c236-4c75-c50c-5244463e71aa"
      },
      "source": [
        "!pip install quandl  # used to get the stoke data"
      ],
      "execution_count": 1,
      "outputs": [
        {
          "output_type": "stream",
          "text": [
            "Requirement already satisfied: quandl in /usr/local/lib/python3.6/dist-packages (3.6.0)\n",
            "Requirement already satisfied: inflection>=0.3.1 in /usr/local/lib/python3.6/dist-packages (from quandl) (0.5.1)\n",
            "Requirement already satisfied: pandas>=0.14 in /usr/local/lib/python3.6/dist-packages (from quandl) (1.1.5)\n",
            "Requirement already satisfied: python-dateutil in /usr/local/lib/python3.6/dist-packages (from quandl) (2.8.1)\n",
            "Requirement already satisfied: more-itertools in /usr/local/lib/python3.6/dist-packages (from quandl) (8.6.0)\n",
            "Requirement already satisfied: numpy>=1.8 in /usr/local/lib/python3.6/dist-packages (from quandl) (1.19.5)\n",
            "Requirement already satisfied: six in /usr/local/lib/python3.6/dist-packages (from quandl) (1.15.0)\n",
            "Requirement already satisfied: requests>=2.7.0 in /usr/local/lib/python3.6/dist-packages (from quandl) (2.23.0)\n",
            "Requirement already satisfied: pytz>=2017.2 in /usr/local/lib/python3.6/dist-packages (from pandas>=0.14->quandl) (2018.9)\n",
            "Requirement already satisfied: chardet<4,>=3.0.2 in /usr/local/lib/python3.6/dist-packages (from requests>=2.7.0->quandl) (3.0.4)\n",
            "Requirement already satisfied: idna<3,>=2.5 in /usr/local/lib/python3.6/dist-packages (from requests>=2.7.0->quandl) (2.10)\n",
            "Requirement already satisfied: certifi>=2017.4.17 in /usr/local/lib/python3.6/dist-packages (from requests>=2.7.0->quandl) (2020.12.5)\n",
            "Requirement already satisfied: urllib3!=1.25.0,!=1.25.1,<1.26,>=1.21.1 in /usr/local/lib/python3.6/dist-packages (from requests>=2.7.0->quandl) (1.24.3)\n"
          ],
          "name": "stdout"
        }
      ]
    },
    {
      "cell_type": "code",
      "metadata": {
        "collapsed": true,
        "id": "3ax1vjxf9px7"
      },
      "source": [
        "import pandas as pd\n",
        "import pandas_datareader\n",
        "import datetime\n",
        "import pandas_datareader.data as web"
      ],
      "execution_count": 2,
      "outputs": []
    },
    {
      "cell_type": "markdown",
      "metadata": {
        "id": "xhFZ6Y8u9px-"
      },
      "source": [
        "## Create a Portfolio"
      ]
    },
    {
      "cell_type": "code",
      "metadata": {
        "id": "BzKQK3ujFJw7"
      },
      "source": [
        "# 用quandl也可 但是要获取最新的数据需要氪金，否则只有2018年3月27号之前的数据\n",
        "# import quandl\n",
        "# quandl.ApiConfig.api_key = \"tLn5x41V8QtEcx7FuzSH\"\n",
        "# aapl = quandl.get('WIKI/AAPL.11',start_date=start,end_date=end)  # .11是只获取数据的第十一列\n",
        "\n",
        "start = datetime.datetime(2017, 1, 1)\n",
        "end = datetime.date.today()\n",
        "\n",
        "aapl = pd.DataFrame(web.DataReader(\"AAPL\", 'yahoo', start, end)['Adj Close'])    # df['Adj Close']是Series\n",
        "cisco = pd.DataFrame(web.DataReader('CSCO', 'yahoo', start, end)['Adj Close'])\n",
        "ibm = pd.DataFrame(web.DataReader('IBM', 'yahoo', start, end)['Adj Close'])\n",
        "amzn = pd.DataFrame(web.DataReader('AMZN', 'yahoo', start, end)['Adj Close'])"
      ],
      "execution_count": 3,
      "outputs": []
    },
    {
      "cell_type": "markdown",
      "metadata": {
        "id": "n0zzntyK9pyA"
      },
      "source": [
        "## Normalize Prices\n",
        "\n",
        "This is the same as cumulative daily returns"
      ]
    },
    {
      "cell_type": "code",
      "metadata": {
        "collapsed": true,
        "id": "IdSdUUy_9pyD"
      },
      "source": [
        "for stock_df in (aapl,cisco,ibm,amzn):\n",
        "    stock_df['Normed Return'] = stock_df['Adj Close']/stock_df.iloc[0]['Adj Close']  # cumulative daily return rate只需要全员除以第一行数据，如果是daily return rate就是除以每一列各自前一列数据"
      ],
      "execution_count": 4,
      "outputs": []
    },
    {
      "cell_type": "code",
      "metadata": {
        "colab": {
          "base_uri": "https://localhost:8080/",
          "height": 238
        },
        "id": "RlRz5vKQ9pyF",
        "outputId": "2357b96f-d4c6-4023-aa59-bacd2ce3c95d"
      },
      "source": [
        "aapl.tail()"
      ],
      "execution_count": 5,
      "outputs": [
        {
          "output_type": "execute_result",
          "data": {
            "text/html": [
              "<div>\n",
              "<style scoped>\n",
              "    .dataframe tbody tr th:only-of-type {\n",
              "        vertical-align: middle;\n",
              "    }\n",
              "\n",
              "    .dataframe tbody tr th {\n",
              "        vertical-align: top;\n",
              "    }\n",
              "\n",
              "    .dataframe thead th {\n",
              "        text-align: right;\n",
              "    }\n",
              "</style>\n",
              "<table border=\"1\" class=\"dataframe\">\n",
              "  <thead>\n",
              "    <tr style=\"text-align: right;\">\n",
              "      <th></th>\n",
              "      <th>Adj Close</th>\n",
              "      <th>Normed Return</th>\n",
              "    </tr>\n",
              "    <tr>\n",
              "      <th>Date</th>\n",
              "      <th></th>\n",
              "      <th></th>\n",
              "    </tr>\n",
              "  </thead>\n",
              "  <tbody>\n",
              "    <tr>\n",
              "      <th>2021-01-20</th>\n",
              "      <td>132.029999</td>\n",
              "      <td>4.800921</td>\n",
              "    </tr>\n",
              "    <tr>\n",
              "      <th>2021-01-21</th>\n",
              "      <td>136.869995</td>\n",
              "      <td>4.976915</td>\n",
              "    </tr>\n",
              "    <tr>\n",
              "      <th>2021-01-22</th>\n",
              "      <td>139.070007</td>\n",
              "      <td>5.056912</td>\n",
              "    </tr>\n",
              "    <tr>\n",
              "      <th>2021-01-25</th>\n",
              "      <td>142.919998</td>\n",
              "      <td>5.196907</td>\n",
              "    </tr>\n",
              "    <tr>\n",
              "      <th>2021-01-26</th>\n",
              "      <td>142.920807</td>\n",
              "      <td>5.196936</td>\n",
              "    </tr>\n",
              "  </tbody>\n",
              "</table>\n",
              "</div>"
            ],
            "text/plain": [
              "             Adj Close  Normed Return\n",
              "Date                                 \n",
              "2021-01-20  132.029999       4.800921\n",
              "2021-01-21  136.869995       4.976915\n",
              "2021-01-22  139.070007       5.056912\n",
              "2021-01-25  142.919998       5.196907\n",
              "2021-01-26  142.920807       5.196936"
            ]
          },
          "metadata": {
            "tags": []
          },
          "execution_count": 5
        }
      ]
    },
    {
      "cell_type": "markdown",
      "metadata": {
        "id": "0XSXrXLf9pyF"
      },
      "source": [
        "## Allocations\n",
        "\n",
        "Let's pretend we had the following allocations for our total portfolio:\n",
        "\n",
        "* 30% in Apple\n",
        "* 20% in Google/Alphabet\n",
        "* 40% in Amazon\n",
        "* 10% in IBM\n",
        "\n",
        "Let's have these values be reflected by multiplying our Norme Return by out Allocations"
      ]
    },
    {
      "cell_type": "code",
      "metadata": {
        "collapsed": true,
        "id": "QIWMBJGs9pyH"
      },
      "source": [
        "# 各自乘上各自的份额，再乘投资总额\n",
        "for stock_df,allo in zip([aapl,cisco,ibm,amzn],[.3,.2,.4,.1]):  \n",
        "    stock_df['Allocation'] = stock_df['Normed Return']*allo"
      ],
      "execution_count": 6,
      "outputs": []
    },
    {
      "cell_type": "code",
      "metadata": {
        "colab": {
          "base_uri": "https://localhost:8080/",
          "height": 238
        },
        "id": "l0qI11N_9pyH",
        "outputId": "bfbd433c-0b82-4244-bf46-3f9afd29ba3a"
      },
      "source": [
        "aapl.tail()"
      ],
      "execution_count": 7,
      "outputs": [
        {
          "output_type": "execute_result",
          "data": {
            "text/html": [
              "<div>\n",
              "<style scoped>\n",
              "    .dataframe tbody tr th:only-of-type {\n",
              "        vertical-align: middle;\n",
              "    }\n",
              "\n",
              "    .dataframe tbody tr th {\n",
              "        vertical-align: top;\n",
              "    }\n",
              "\n",
              "    .dataframe thead th {\n",
              "        text-align: right;\n",
              "    }\n",
              "</style>\n",
              "<table border=\"1\" class=\"dataframe\">\n",
              "  <thead>\n",
              "    <tr style=\"text-align: right;\">\n",
              "      <th></th>\n",
              "      <th>Adj Close</th>\n",
              "      <th>Normed Return</th>\n",
              "      <th>Allocation</th>\n",
              "    </tr>\n",
              "    <tr>\n",
              "      <th>Date</th>\n",
              "      <th></th>\n",
              "      <th></th>\n",
              "      <th></th>\n",
              "    </tr>\n",
              "  </thead>\n",
              "  <tbody>\n",
              "    <tr>\n",
              "      <th>2021-01-20</th>\n",
              "      <td>132.029999</td>\n",
              "      <td>4.800921</td>\n",
              "      <td>1.440276</td>\n",
              "    </tr>\n",
              "    <tr>\n",
              "      <th>2021-01-21</th>\n",
              "      <td>136.869995</td>\n",
              "      <td>4.976915</td>\n",
              "      <td>1.493074</td>\n",
              "    </tr>\n",
              "    <tr>\n",
              "      <th>2021-01-22</th>\n",
              "      <td>139.070007</td>\n",
              "      <td>5.056912</td>\n",
              "      <td>1.517074</td>\n",
              "    </tr>\n",
              "    <tr>\n",
              "      <th>2021-01-25</th>\n",
              "      <td>142.919998</td>\n",
              "      <td>5.196907</td>\n",
              "      <td>1.559072</td>\n",
              "    </tr>\n",
              "    <tr>\n",
              "      <th>2021-01-26</th>\n",
              "      <td>142.920807</td>\n",
              "      <td>5.196936</td>\n",
              "      <td>1.559081</td>\n",
              "    </tr>\n",
              "  </tbody>\n",
              "</table>\n",
              "</div>"
            ],
            "text/plain": [
              "             Adj Close  Normed Return  Allocation\n",
              "Date                                             \n",
              "2021-01-20  132.029999       4.800921    1.440276\n",
              "2021-01-21  136.869995       4.976915    1.493074\n",
              "2021-01-22  139.070007       5.056912    1.517074\n",
              "2021-01-25  142.919998       5.196907    1.559072\n",
              "2021-01-26  142.920807       5.196936    1.559081"
            ]
          },
          "metadata": {
            "tags": []
          },
          "execution_count": 7
        }
      ]
    },
    {
      "cell_type": "markdown",
      "metadata": {
        "id": "k2ZfTMkx9pyI"
      },
      "source": [
        "## Investment\n",
        "\n",
        "Let's pretend we invested a million dollars in this portfolio"
      ]
    },
    {
      "cell_type": "code",
      "metadata": {
        "collapsed": true,
        "id": "ahftlbKp9pyJ"
      },
      "source": [
        "for stock_df in [aapl,cisco,ibm,amzn]:\n",
        "    stock_df['Position Values'] = stock_df['Allocation']*1000000"
      ],
      "execution_count": 8,
      "outputs": []
    },
    {
      "cell_type": "markdown",
      "metadata": {
        "id": "_IFBbUgl9pyJ"
      },
      "source": [
        "## Total Portfolio Value"
      ]
    },
    {
      "cell_type": "code",
      "metadata": {
        "collapsed": true,
        "colab": {
          "base_uri": "https://localhost:8080/",
          "height": 238
        },
        "id": "v8OBNPMc9pyK",
        "outputId": "d670da31-5593-410b-de4c-420248042bca"
      },
      "source": [
        "portfolio_val = pd.concat([aapl['Position Values'],cisco['Position Values'],ibm['Position Values'],amzn['Position Values']],axis=1)\n",
        "portfolio_val.columns = ['AAPL Pos','CISCO Pos','IBM Pos','AMZN Pos'] # rename columns\n",
        "portfolio_val.tail()"
      ],
      "execution_count": 9,
      "outputs": [
        {
          "output_type": "execute_result",
          "data": {
            "text/html": [
              "<div>\n",
              "<style scoped>\n",
              "    .dataframe tbody tr th:only-of-type {\n",
              "        vertical-align: middle;\n",
              "    }\n",
              "\n",
              "    .dataframe tbody tr th {\n",
              "        vertical-align: top;\n",
              "    }\n",
              "\n",
              "    .dataframe thead th {\n",
              "        text-align: right;\n",
              "    }\n",
              "</style>\n",
              "<table border=\"1\" class=\"dataframe\">\n",
              "  <thead>\n",
              "    <tr style=\"text-align: right;\">\n",
              "      <th></th>\n",
              "      <th>AAPL Pos</th>\n",
              "      <th>CISCO Pos</th>\n",
              "      <th>IBM Pos</th>\n",
              "      <th>AMZN Pos</th>\n",
              "    </tr>\n",
              "    <tr>\n",
              "      <th>Date</th>\n",
              "      <th></th>\n",
              "      <th></th>\n",
              "      <th></th>\n",
              "      <th></th>\n",
              "    </tr>\n",
              "  </thead>\n",
              "  <tbody>\n",
              "    <tr>\n",
              "      <th>2021-01-20</th>\n",
              "      <td>1.440276e+06</td>\n",
              "      <td>339768.347605</td>\n",
              "      <td>372686.774593</td>\n",
              "      <td>432998.521476</td>\n",
              "    </tr>\n",
              "    <tr>\n",
              "      <th>2021-01-21</th>\n",
              "      <td>1.493074e+06</td>\n",
              "      <td>338044.779803</td>\n",
              "      <td>377184.893218</td>\n",
              "      <td>438784.887978</td>\n",
              "    </tr>\n",
              "    <tr>\n",
              "      <th>2021-01-22</th>\n",
              "      <td>1.517074e+06</td>\n",
              "      <td>335496.890750</td>\n",
              "      <td>339824.553657</td>\n",
              "      <td>436826.469824</td>\n",
              "    </tr>\n",
              "    <tr>\n",
              "      <th>2021-01-25</th>\n",
              "      <td>1.559072e+06</td>\n",
              "      <td>337445.263044</td>\n",
              "      <td>339738.605409</td>\n",
              "      <td>437061.323217</td>\n",
              "    </tr>\n",
              "    <tr>\n",
              "      <th>2021-01-26</th>\n",
              "      <td>1.559081e+06</td>\n",
              "      <td>339356.186980</td>\n",
              "      <td>349224.804507</td>\n",
              "      <td>442472.507373</td>\n",
              "    </tr>\n",
              "  </tbody>\n",
              "</table>\n",
              "</div>"
            ],
            "text/plain": [
              "                AAPL Pos      CISCO Pos        IBM Pos       AMZN Pos\n",
              "Date                                                                 \n",
              "2021-01-20  1.440276e+06  339768.347605  372686.774593  432998.521476\n",
              "2021-01-21  1.493074e+06  338044.779803  377184.893218  438784.887978\n",
              "2021-01-22  1.517074e+06  335496.890750  339824.553657  436826.469824\n",
              "2021-01-25  1.559072e+06  337445.263044  339738.605409  437061.323217\n",
              "2021-01-26  1.559081e+06  339356.186980  349224.804507  442472.507373"
            ]
          },
          "metadata": {
            "tags": []
          },
          "execution_count": 9
        }
      ]
    },
    {
      "cell_type": "code",
      "metadata": {
        "collapsed": true,
        "colab": {
          "base_uri": "https://localhost:8080/",
          "height": 238
        },
        "id": "0jxlunLd9pyM",
        "outputId": "7e55dfd8-5d62-4538-dc48-6192615328e4"
      },
      "source": [
        "portfolio_val['Total Pos'] = portfolio_val.sum(axis=1)\n",
        "portfolio_val.tail()"
      ],
      "execution_count": 10,
      "outputs": [
        {
          "output_type": "execute_result",
          "data": {
            "text/html": [
              "<div>\n",
              "<style scoped>\n",
              "    .dataframe tbody tr th:only-of-type {\n",
              "        vertical-align: middle;\n",
              "    }\n",
              "\n",
              "    .dataframe tbody tr th {\n",
              "        vertical-align: top;\n",
              "    }\n",
              "\n",
              "    .dataframe thead th {\n",
              "        text-align: right;\n",
              "    }\n",
              "</style>\n",
              "<table border=\"1\" class=\"dataframe\">\n",
              "  <thead>\n",
              "    <tr style=\"text-align: right;\">\n",
              "      <th></th>\n",
              "      <th>AAPL Pos</th>\n",
              "      <th>CISCO Pos</th>\n",
              "      <th>IBM Pos</th>\n",
              "      <th>AMZN Pos</th>\n",
              "      <th>Total Pos</th>\n",
              "    </tr>\n",
              "    <tr>\n",
              "      <th>Date</th>\n",
              "      <th></th>\n",
              "      <th></th>\n",
              "      <th></th>\n",
              "      <th></th>\n",
              "      <th></th>\n",
              "    </tr>\n",
              "  </thead>\n",
              "  <tbody>\n",
              "    <tr>\n",
              "      <th>2021-01-20</th>\n",
              "      <td>1.440276e+06</td>\n",
              "      <td>339768.347605</td>\n",
              "      <td>372686.774593</td>\n",
              "      <td>432998.521476</td>\n",
              "      <td>2.585730e+06</td>\n",
              "    </tr>\n",
              "    <tr>\n",
              "      <th>2021-01-21</th>\n",
              "      <td>1.493074e+06</td>\n",
              "      <td>338044.779803</td>\n",
              "      <td>377184.893218</td>\n",
              "      <td>438784.887978</td>\n",
              "      <td>2.647089e+06</td>\n",
              "    </tr>\n",
              "    <tr>\n",
              "      <th>2021-01-22</th>\n",
              "      <td>1.517074e+06</td>\n",
              "      <td>335496.890750</td>\n",
              "      <td>339824.553657</td>\n",
              "      <td>436826.469824</td>\n",
              "      <td>2.629222e+06</td>\n",
              "    </tr>\n",
              "    <tr>\n",
              "      <th>2021-01-25</th>\n",
              "      <td>1.559072e+06</td>\n",
              "      <td>337445.263044</td>\n",
              "      <td>339738.605409</td>\n",
              "      <td>437061.323217</td>\n",
              "      <td>2.673317e+06</td>\n",
              "    </tr>\n",
              "    <tr>\n",
              "      <th>2021-01-26</th>\n",
              "      <td>1.559081e+06</td>\n",
              "      <td>339356.186980</td>\n",
              "      <td>349224.804507</td>\n",
              "      <td>442472.507373</td>\n",
              "      <td>2.690134e+06</td>\n",
              "    </tr>\n",
              "  </tbody>\n",
              "</table>\n",
              "</div>"
            ],
            "text/plain": [
              "                AAPL Pos      CISCO Pos  ...       AMZN Pos     Total Pos\n",
              "Date                                     ...                             \n",
              "2021-01-20  1.440276e+06  339768.347605  ...  432998.521476  2.585730e+06\n",
              "2021-01-21  1.493074e+06  338044.779803  ...  438784.887978  2.647089e+06\n",
              "2021-01-22  1.517074e+06  335496.890750  ...  436826.469824  2.629222e+06\n",
              "2021-01-25  1.559072e+06  337445.263044  ...  437061.323217  2.673317e+06\n",
              "2021-01-26  1.559081e+06  339356.186980  ...  442472.507373  2.690134e+06\n",
              "\n",
              "[5 rows x 5 columns]"
            ]
          },
          "metadata": {
            "tags": []
          },
          "execution_count": 10
        }
      ]
    },
    {
      "cell_type": "code",
      "metadata": {
        "collapsed": true,
        "id": "jmxXELvO9pyM"
      },
      "source": [
        "import matplotlib.pyplot as plt\n",
        "%matplotlib inline"
      ],
      "execution_count": 11,
      "outputs": []
    },
    {
      "cell_type": "code",
      "metadata": {
        "colab": {
          "base_uri": "https://localhost:8080/",
          "height": 506
        },
        "id": "gXBCLts29pyN",
        "outputId": "f8bd1b70-3004-4ad8-a998-64135e5b8cb2"
      },
      "source": [
        "portfolio_val['Total Pos'].plot(figsize=(10,8))\n",
        "plt.title('Total Portfolio Value')"
      ],
      "execution_count": 12,
      "outputs": [
        {
          "output_type": "execute_result",
          "data": {
            "text/plain": [
              "Text(0.5, 1.0, 'Total Portfolio Value')"
            ]
          },
          "metadata": {
            "tags": []
          },
          "execution_count": 12
        },
        {
          "output_type": "display_data",
          "data": {
            "image/png": "[encoded data removed]",
            "text/plain": [
              "<Figure size 720x576 with 1 Axes>"
            ]
          },
          "metadata": {
            "tags": [],
            "needs_background": "light"
          }
        }
      ]
    },
    {
      "cell_type": "code",
      "metadata": {
        "colab": {
          "base_uri": "https://localhost:8080/",
          "height": 305
        },
        "id": "enGXVB2s9pyN",
        "outputId": "aed19a6b-c4d8-4bdd-ece9-97d4eabdcafe"
      },
      "source": [
        "portfolio_val.drop('Total Pos',axis=1).plot(kind='line')"
      ],
      "execution_count": 13,
      "outputs": [
        {
          "output_type": "execute_result",
          "data": {
            "text/plain": [
              "<matplotlib.axes._subplots.AxesSubplot at 0x7faf2f430a90>"
            ]
          },
          "metadata": {
            "tags": []
          },
          "execution_count": 13
        },
        {
          "output_type": "display_data",
          "data": {
            "image/png": "[encoded data removed]",
            "text/plain": [
              "<Figure size 432x288 with 1 Axes>"
            ]
          },
          "metadata": {
            "tags": [],
            "needs_background": "light"
          }
        }
      ]
    },
    {
      "cell_type": "markdown",
      "metadata": {
        "id": "6s_gg0Td9pyO"
      },
      "source": [
        "# Portfolio Statistics\n",
        "\n",
        "key statistics for a profolio:\n",
        "\n",
        "- daily returns\n",
        "\n",
        "- overall cumulative returns: the amount returned after an entire time period.\n",
        "\n",
        "- avg. daily return\n",
        "\n",
        "- std. daily return: volatility of that actual return.\n",
        "\n",
        "\n"
      ]
    },
    {
      "cell_type": "code",
      "metadata": {
        "colab": {
          "base_uri": "https://localhost:8080/",
          "height": 238
        },
        "id": "G1FaCzIfWYoN",
        "outputId": "1466bbbd-b07b-4b02-9ae8-318cd10346c1"
      },
      "source": [
        "portfolio_val.tail()"
      ],
      "execution_count": 14,
      "outputs": [
        {
          "output_type": "execute_result",
          "data": {
            "text/html": [
              "<div>\n",
              "<style scoped>\n",
              "    .dataframe tbody tr th:only-of-type {\n",
              "        vertical-align: middle;\n",
              "    }\n",
              "\n",
              "    .dataframe tbody tr th {\n",
              "        vertical-align: top;\n",
              "    }\n",
              "\n",
              "    .dataframe thead th {\n",
              "        text-align: right;\n",
              "    }\n",
              "</style>\n",
              "<table border=\"1\" class=\"dataframe\">\n",
              "  <thead>\n",
              "    <tr style=\"text-align: right;\">\n",
              "      <th></th>\n",
              "      <th>AAPL Pos</th>\n",
              "      <th>CISCO Pos</th>\n",
              "      <th>IBM Pos</th>\n",
              "      <th>AMZN Pos</th>\n",
              "      <th>Total Pos</th>\n",
              "    </tr>\n",
              "    <tr>\n",
              "      <th>Date</th>\n",
              "      <th></th>\n",
              "      <th></th>\n",
              "      <th></th>\n",
              "      <th></th>\n",
              "      <th></th>\n",
              "    </tr>\n",
              "  </thead>\n",
              "  <tbody>\n",
              "    <tr>\n",
              "      <th>2021-01-20</th>\n",
              "      <td>1.440276e+06</td>\n",
              "      <td>339768.347605</td>\n",
              "      <td>372686.774593</td>\n",
              "      <td>432998.521476</td>\n",
              "      <td>2.585730e+06</td>\n",
              "    </tr>\n",
              "    <tr>\n",
              "      <th>2021-01-21</th>\n",
              "      <td>1.493074e+06</td>\n",
              "      <td>338044.779803</td>\n",
              "      <td>377184.893218</td>\n",
              "      <td>438784.887978</td>\n",
              "      <td>2.647089e+06</td>\n",
              "    </tr>\n",
              "    <tr>\n",
              "      <th>2021-01-22</th>\n",
              "      <td>1.517074e+06</td>\n",
              "      <td>335496.890750</td>\n",
              "      <td>339824.553657</td>\n",
              "      <td>436826.469824</td>\n",
              "      <td>2.629222e+06</td>\n",
              "    </tr>\n",
              "    <tr>\n",
              "      <th>2021-01-25</th>\n",
              "      <td>1.559072e+06</td>\n",
              "      <td>337445.263044</td>\n",
              "      <td>339738.605409</td>\n",
              "      <td>437061.323217</td>\n",
              "      <td>2.673317e+06</td>\n",
              "    </tr>\n",
              "    <tr>\n",
              "      <th>2021-01-26</th>\n",
              "      <td>1.559081e+06</td>\n",
              "      <td>339356.186980</td>\n",
              "      <td>349224.804507</td>\n",
              "      <td>442472.507373</td>\n",
              "      <td>2.690134e+06</td>\n",
              "    </tr>\n",
              "  </tbody>\n",
              "</table>\n",
              "</div>"
            ],
            "text/plain": [
              "                AAPL Pos      CISCO Pos  ...       AMZN Pos     Total Pos\n",
              "Date                                     ...                             \n",
              "2021-01-20  1.440276e+06  339768.347605  ...  432998.521476  2.585730e+06\n",
              "2021-01-21  1.493074e+06  338044.779803  ...  438784.887978  2.647089e+06\n",
              "2021-01-22  1.517074e+06  335496.890750  ...  436826.469824  2.629222e+06\n",
              "2021-01-25  1.559072e+06  337445.263044  ...  437061.323217  2.673317e+06\n",
              "2021-01-26  1.559081e+06  339356.186980  ...  442472.507373  2.690134e+06\n",
              "\n",
              "[5 rows x 5 columns]"
            ]
          },
          "metadata": {
            "tags": []
          },
          "execution_count": 14
        }
      ]
    },
    {
      "cell_type": "markdown",
      "metadata": {
        "id": "GYU57bf3Wn-E"
      },
      "source": [
        "### Daily Returns"
      ]
    },
    {
      "cell_type": "code",
      "metadata": {
        "collapsed": true,
        "id": "AbR_A5rV9pyO"
      },
      "source": [
        "portfolio_val['Daily Return'] = portfolio_val['Total Pos'].pct_change(1)  # pct_change表示当前元素与先前元素的相差百分比"
      ],
      "execution_count": 15,
      "outputs": []
    },
    {
      "cell_type": "markdown",
      "metadata": {
        "id": "Y8kdCa1A9pyO"
      },
      "source": [
        "### Cumulative Return"
      ]
    },
    {
      "cell_type": "code",
      "metadata": {
        "colab": {
          "base_uri": "https://localhost:8080/"
        },
        "id": "P7FbcgXj9pyO",
        "outputId": "6ca73e1d-a7a1-4cec-b751-bc3ce3b1c0d4"
      },
      "source": [
        "# Keep in mind this is not the daily cumulative returns to just the overall cumulative return.\n",
        "cum_ret = 100 * (portfolio_val['Total Pos'][-1]/portfolio_val['Total Pos'][0] -1 )  # 只需要最后一行和第一行的就可以\n",
        "print('Our return {} was percent!'.format(cum_ret))"
      ],
      "execution_count": 16,
      "outputs": [
        {
          "output_type": "stream",
          "text": [
            "Our return 169.01344251468183 was percent!\n"
          ],
          "name": "stdout"
        }
      ]
    },
    {
      "cell_type": "markdown",
      "metadata": {
        "id": "7z2j20W79pyP"
      },
      "source": [
        "### Avg Daily Return"
      ]
    },
    {
      "cell_type": "code",
      "metadata": {
        "colab": {
          "base_uri": "https://localhost:8080/"
        },
        "id": "oUzkCYQv9pyP",
        "outputId": "78445e94-ae8b-405c-9483-06fb3b5e44e1"
      },
      "source": [
        "portfolio_val['Daily Return'].mean()"
      ],
      "execution_count": 17,
      "outputs": [
        {
          "output_type": "execute_result",
          "data": {
            "text/plain": [
              "0.0010935821988731116"
            ]
          },
          "metadata": {
            "tags": []
          },
          "execution_count": 17
        }
      ]
    },
    {
      "cell_type": "markdown",
      "metadata": {
        "id": "c6fU7gjb9pyQ"
      },
      "source": [
        "### Std Daily Return"
      ]
    },
    {
      "cell_type": "code",
      "metadata": {
        "colab": {
          "base_uri": "https://localhost:8080/"
        },
        "id": "jtVJAhOl9pyQ",
        "outputId": "e3fc0475-58f9-4137-cce2-4b315cee4a94"
      },
      "source": [
        "portfolio_val['Daily Return'].std()"
      ],
      "execution_count": 18,
      "outputs": [
        {
          "output_type": "execute_result",
          "data": {
            "text/plain": [
              "0.015781805649614258"
            ]
          },
          "metadata": {
            "tags": []
          },
          "execution_count": 18
        }
      ]
    },
    {
      "cell_type": "code",
      "metadata": {
        "colab": {
          "base_uri": "https://localhost:8080/",
          "height": 284
        },
        "id": "SqXKXrq49pyQ",
        "outputId": "8279c133-23ff-4b6e-e0c5-68b52ce0c043"
      },
      "source": [
        "portfolio_val['Daily Return'].plot(kind='kde')  # 又是核密度图"
      ],
      "execution_count": 19,
      "outputs": [
        {
          "output_type": "execute_result",
          "data": {
            "text/plain": [
              "<matplotlib.axes._subplots.AxesSubplot at 0x7faf2f4ed0f0>"
            ]
          },
          "metadata": {
            "tags": []
          },
          "execution_count": 19
        },
        {
          "output_type": "display_data",
          "data": {
            "image/png": "[encoded data removed]",
            "text/plain": [
              "<Figure size 432x288 with 1 Axes>"
            ]
          },
          "metadata": {
            "tags": [],
            "needs_background": "light"
          }
        }
      ]
    },
    {
      "cell_type": "markdown",
      "metadata": {
        "id": "fAU3IPZS9pyQ"
      },
      "source": [
        "# Sharpe Ratio\n",
        "\n",
        "Sharpe ratio = (Mean portfolio return − Risk-free rate)/Standard deviation of portfolio return\n",
        "\n",
        "Since I'm based in the USA, I will use a very low risk-free rate (the rate you would get if you just put your money in a bank, its currently very low in the USA, let's just say its ~0% return). \n",
        "\n",
        "so, after approximation, the formula:\n",
        "\n",
        "Sharpe ratio = Mean portfolio return/std deviation of portfolio return\n",
        "\n",
        "If you are in a different country with higher rates for your trading currency, you can use this formula to convert a yearly rate with a daily rate:\n",
        "\n",
        "daily_rate = ((1.0 + yearly_rate)**(1/252))-1\n",
        "\n",
        "Other values people use are things like the 3-month treasury bill or [LIBOR](http://www.investopedia.com/terms/l/libor.asp).\n"
      ]
    },
    {
      "cell_type": "markdown",
      "metadata": {
        "id": "cgLIrbxwP7Bc"
      },
      "source": [
        "Annualized Sharpe Ratio = K-value * SR\n",
        "\n",
        "K-values for various sampling rates:\n",
        "\n",
        "* Daily = sqrt(252)\n",
        "* Weekly = sqrt(52)\n",
        "* Monthly = sqrt(12)"
      ]
    },
    {
      "cell_type": "code",
      "metadata": {
        "collapsed": true,
        "colab": {
          "base_uri": "https://localhost:8080/"
        },
        "id": "AYVlU4zK9pyR",
        "outputId": "e53bc035-fcf1-43e3-f650-a63c33612fa2"
      },
      "source": [
        "# Sharpe Ratio\n",
        "SR = portfolio_val['Daily Return'].mean()/portfolio_val['Daily Return'].std()\n",
        "SR  # 不太行，应当调整一下比例"
      ],
      "execution_count": 20,
      "outputs": [
        {
          "output_type": "execute_result",
          "data": {
            "text/plain": [
              "0.06929385794963462"
            ]
          },
          "metadata": {
            "tags": []
          },
          "execution_count": 20
        }
      ]
    },
    {
      "cell_type": "code",
      "metadata": {
        "collapsed": true,
        "colab": {
          "base_uri": "https://localhost:8080/"
        },
        "id": "E3zY64VD9pyS",
        "outputId": "3f690fe0-2ff3-4b61-ef61-9412dd69b9c5"
      },
      "source": [
        "# Annualized Sharpe Ratio\n",
        "ASR = (252**0.5)*SR\n",
        "ASR  "
      ],
      "execution_count": 21,
      "outputs": [
        {
          "output_type": "execute_result",
          "data": {
            "text/plain": [
              "1.100005893113816"
            ]
          },
          "metadata": {
            "tags": []
          },
          "execution_count": 21
        }
      ]
    }
  ]
}